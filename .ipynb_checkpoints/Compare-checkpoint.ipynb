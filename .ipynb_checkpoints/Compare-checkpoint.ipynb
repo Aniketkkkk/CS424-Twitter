{
 "cells": [
  {
   "cell_type": "code",
   "execution_count": 8,
   "metadata": {},
   "outputs": [],
   "source": [
    "import pandas as pd\n",
    "import ast\n",
    "import networkx as nx\n",
    "import matplotlib.pyplot as plt\n",
    "import numpy as np"
   ]
  },
  {
   "cell_type": "code",
   "execution_count": 9,
   "metadata": {},
   "outputs": [],
   "source": [
    "def make_graph(file_name):\n",
    "    path = \"dataset_module_2/\" + file_name\n",
    "    data = pd.read_csv(path) \n",
    "    counter=len(data)\n",
    "    nodes={}\n",
    "    for i in range(counter):\n",
    "        nodes[i]=data['username'][i]\n",
    "    #print(nodes)\n",
    "    mentions={}\n",
    "    j=counter\n",
    "\n",
    "    k=counter\n",
    "    for i in range(counter):\n",
    "        res = ast.literal_eval(data['mentions'][i])\n",
    "        for j in range(len(res)):\n",
    "            if(len(res[j])>0):\n",
    "                nodes[k]=res[j]\n",
    "                k+=1\n",
    "    unique_users=set(nodes.values())\n",
    "    user_ind={}\n",
    "    j=0\n",
    "    for i in unique_users:\n",
    "        user_ind[i]=j\n",
    "        j+=1\n",
    "    #user_ind  \n",
    "\n",
    "    ind_to_user={}\n",
    "    for key in user_ind:\n",
    "        ind_to_user[user_ind[key]]=key\n",
    "\n",
    "    arr=np.zeros([len(unique_users),len(unique_users)],dtype=int)\n",
    "    for i in range(counter):\n",
    "        user=data['username'][i]\n",
    "        res = ast.literal_eval(data['mentions'][i])\n",
    "        for j in res:\n",
    "            #print(user,\"men\",j)\n",
    "            arr[user_ind[user]][[user_ind[j]]]+=1\n",
    "    val =0\n",
    "    for i in range (len(unique_users)):\n",
    "        for j in range (len(unique_users)):\n",
    "            val = max(val,arr[i][j])\n",
    "\n",
    "    Graph=nx.Graph()\n",
    "    DiGraph = nx.DiGraph();\n",
    "    for i in range(0,len(unique_users)):\n",
    "        for j in range(0,len(unique_users)):\n",
    "            if(arr[i][j]>0):\n",
    "                #print(i,j,arr[i][j])\n",
    "                Graph.add_edge(ind_to_user[i],ind_to_user[j],weight=arr[i][j])\n",
    "                DiGraph.add_edge(ind_to_user[i],ind_to_user[j],weight=arr[i][j])\n",
    "            else:\n",
    "                if(Graph.has_node(i)==0):\n",
    "                    Graph.add_node(ind_to_user[i])\n",
    "                if(Graph.has_node(j)==0):\n",
    "                    Graph.add_node(ind_to_user[j])\n",
    "\n",
    "\n",
    "    #nx.spring_layout(Graph)\n",
    "    plt.figure(figsize=(50,50))\n",
    "    nx.draw_networkx(Graph,node_size=300, node_color='red', with_labels=True)\n",
    "    return Graph"
   ]
  },
  {
   "cell_type": "code",
   "execution_count": 11,
   "metadata": {},
   "outputs": [],
   "source": [
    "def make_digraph(file_name):\n",
    "    path = \"dataset_module_2/\" + file_name\n",
    "    data = pd.read_csv(path) \n",
    "    counter=len(data)\n",
    "    nodes={}\n",
    "    for i in range(counter):\n",
    "        nodes[i]=data['username'][i]\n",
    "    #print(nodes)\n",
    "    mentions={}\n",
    "    j=counter\n",
    "\n",
    "    k=counter\n",
    "    for i in range(counter):\n",
    "        res = ast.literal_eval(data['mentions'][i])\n",
    "        for j in range(len(res)):\n",
    "            if(len(res[j])>0):\n",
    "                nodes[k]=res[j]\n",
    "                k+=1\n",
    "    unique_users=set(nodes.values())\n",
    "    user_ind={}\n",
    "    j=0\n",
    "    for i in unique_users:\n",
    "        user_ind[i]=j\n",
    "        j+=1\n",
    "    #user_ind  \n",
    "\n",
    "    ind_to_user={}\n",
    "    for key in user_ind:\n",
    "        ind_to_user[user_ind[key]]=key\n",
    "\n",
    "    arr=np.zeros([len(unique_users),len(unique_users)],dtype=int)\n",
    "    for i in range(counter):\n",
    "        user=data['username'][i]\n",
    "        res = ast.literal_eval(data['mentions'][i])\n",
    "        for j in res:\n",
    "            #print(user,\"men\",j)\n",
    "            arr[user_ind[user]][[user_ind[j]]]+=1\n",
    "    val =0\n",
    "    for i in range (len(unique_users)):\n",
    "        for j in range (len(unique_users)):\n",
    "            val = max(val,arr[i][j])\n",
    "\n",
    "    Graph=nx.Graph()\n",
    "    DiGraph = nx.DiGraph();\n",
    "    for i in range(0,len(unique_users)):\n",
    "        for j in range(0,len(unique_users)):\n",
    "            if(arr[i][j]>0):\n",
    "                #print(i,j,arr[i][j])\n",
    "                Graph.add_edge(ind_to_user[i],ind_to_user[j],weight=arr[i][j])\n",
    "                DiGraph.add_edge(ind_to_user[i],ind_to_user[j],weight=arr[i][j])\n",
    "#             else:\n",
    "#                 if(Graph.has_node(i)==0):\n",
    "#                     Graph.add_node(ind_to_user[i])\n",
    "#                 if(Graph.has_node(j)==0):\n",
    "#                     Graph.add_node(ind_to_user[j])\n",
    "\n",
    "\n",
    "    #nx.spring_layout(Graph)\n",
    "    plt.figure(figsize=(50,50))\n",
    "    #\n",
    "    return DiGraph"
   ]
  },
  {
   "cell_type": "code",
   "execution_count": 12,
   "metadata": {},
   "outputs": [
    {
     "data": {
      "text/plain": [
       "<Figure size 3600x3600 with 0 Axes>"
      ]
     },
     "metadata": {},
     "output_type": "display_data"
    },
    {
     "data": {
      "text/plain": [
       "<Figure size 3600x3600 with 0 Axes>"
      ]
     },
     "metadata": {},
     "output_type": "display_data"
    },
    {
     "data": {
      "text/plain": [
       "<Figure size 3600x3600 with 0 Axes>"
      ]
     },
     "metadata": {},
     "output_type": "display_data"
    }
   ],
   "source": [
    "modi_eco=make_digraph(\"modi_economy.csv\")\n",
    "modi_edu=make_digraph(\"modi_education.csv\")\n",
    "modi_sprt=make_digraph(\"modi_sports.csv\")"
   ]
  },
  {
   "cell_type": "code",
   "execution_count": 20,
   "metadata": {
    "scrolled": true
   },
   "outputs": [
    {
     "data": {
      "text/plain": [
       "<Figure size 3600x3600 with 0 Axes>"
      ]
     },
     "metadata": {},
     "output_type": "display_data"
    },
    {
     "data": {
      "text/plain": [
       "<Figure size 3600x3600 with 0 Axes>"
      ]
     },
     "metadata": {},
     "output_type": "display_data"
    },
    {
     "data": {
      "text/plain": [
       "<Figure size 3600x3600 with 0 Axes>"
      ]
     },
     "metadata": {},
     "output_type": "display_data"
    }
   ],
   "source": [
    "kejri_eco=make_digraph(\"kejriwal_economy.csv\")\n",
    "kejri_edu=make_digraph(\"kejriwal_education.csv\")\n",
    "kejri_sprt=make_digraph(\"kejriwal_sports.csv\")"
   ]
  },
  {
   "cell_type": "code",
   "execution_count": 30,
   "metadata": {},
   "outputs": [
    {
     "data": {
      "text/plain": [
       "<Figure size 3600x3600 with 0 Axes>"
      ]
     },
     "metadata": {},
     "output_type": "display_data"
    },
    {
     "data": {
      "text/plain": [
       "<Figure size 3600x3600 with 0 Axes>"
      ]
     },
     "metadata": {},
     "output_type": "display_data"
    },
    {
     "data": {
      "text/plain": [
       "<Figure size 3600x3600 with 0 Axes>"
      ]
     },
     "metadata": {},
     "output_type": "display_data"
    }
   ],
   "source": [
    "rahul_eco=make_digraph(\"rahulgandhi_economy.csv\")\n",
    "rahul_edu=make_digraph(\"rahulgandhi_education.csv\")\n",
    "rahul_sprt=make_digraph(\"rahulgandhi_sports.csv\")"
   ]
  },
  {
   "cell_type": "code",
   "execution_count": 31,
   "metadata": {},
   "outputs": [],
   "source": [
    "def stat(graph):\n",
    "    stats=[]\n",
    "    size=graph.size(weight=\"weight\")\n",
    "    size\n",
    "    num_edges=graph.number_of_edges()\n",
    "    num_edges\n",
    "    max_ind=0.000\n",
    "    max_out=0.000\n",
    "    sum_in=0.000\n",
    "    sum_out=0.000\n",
    "    ind_by_out=0.000\n",
    "    avg_in=0.00\n",
    "    avg_out=0.00\n",
    "    avg_ind_by_out=0.00\n",
    "    for node in list(graph.nodes()):\n",
    "        ind=graph.in_degree(node)\n",
    "        out=graph.out_degree(node)\n",
    "        sum_in+=ind\n",
    "        sum_out+=out\n",
    "        max_ind=max(max_ind,ind)\n",
    "        max_out=max(max_out,out)\n",
    "        if(out!=0):\n",
    "            ind_by_out+=(ind/out)\n",
    "    leng=len(list(graph.nodes()))\n",
    "    if leng!=0:\n",
    "        avg_ind_by_out=ind_by_out/leng\n",
    "    if leng!=0:\n",
    "        avg_in=sum_in/leng\n",
    "        avg_out=sum_out/leng\n",
    "    stats.append(size)\n",
    "    stats.append(num_edges)\n",
    "    stats.append(max_ind)\n",
    "    stats.append(max_out)\n",
    "    stats.append(avg_ind_by_out)\n",
    "    return stats"
   ]
  },
  {
   "cell_type": "code",
   "execution_count": 32,
   "metadata": {},
   "outputs": [],
   "source": [
    "#For Modi:-\n",
    "sports_stats=stat(modi_sprt)\n",
    "economy_stats=stat(modi_eco)\n",
    "education_stats=stat(modi_edu)\n",
    "\n",
    "\n",
    "def make_dict(dicti,i):\n",
    "    dicti[\"Education\"]=education_stats[i]\n",
    "    dicti[\"Economy\"]=economy_stats[i]\n",
    "    dicti[\"sports\"]=sports_stats[i]\n",
    "    return dicti\n",
    "size={}\n",
    "size=make_dict(size,0)\n",
    "edges={}\n",
    "edges=make_dict(edges,1)\n",
    "max_out_degree={}\n",
    "max_out_degree=make_dict(max_out_degree,3)\n",
    "max_in_degree={}\n",
    "max_in_degree=make_dict(max_in_degree,2)\n",
    "avg_in_out={}\n",
    "avg_in_out=make_dict(avg_in_out,4)\n",
    "\n"
   ]
  },
  {
   "cell_type": "code",
   "execution_count": 33,
   "metadata": {},
   "outputs": [
    {
     "data": {
      "text/html": [
       "<div>\n",
       "<style scoped>\n",
       "    .dataframe tbody tr th:only-of-type {\n",
       "        vertical-align: middle;\n",
       "    }\n",
       "\n",
       "    .dataframe tbody tr th {\n",
       "        vertical-align: top;\n",
       "    }\n",
       "\n",
       "    .dataframe thead th {\n",
       "        text-align: right;\n",
       "    }\n",
       "</style>\n",
       "<table border=\"1\" class=\"dataframe\">\n",
       "  <thead>\n",
       "    <tr style=\"text-align: right;\">\n",
       "      <th></th>\n",
       "      <th>SIZE</th>\n",
       "      <th>EDGES</th>\n",
       "      <th>MAXIMUM IN DEGREE</th>\n",
       "      <th>MAXIMUM OUT DEGREE</th>\n",
       "      <th>AVERAGE OUT DEGREE</th>\n",
       "    </tr>\n",
       "  </thead>\n",
       "  <tbody>\n",
       "    <tr>\n",
       "      <th>Education</th>\n",
       "      <td>12.0</td>\n",
       "      <td>11</td>\n",
       "      <td>1</td>\n",
       "      <td>11</td>\n",
       "      <td>0.0</td>\n",
       "    </tr>\n",
       "    <tr>\n",
       "      <th>Economy</th>\n",
       "      <td>23.0</td>\n",
       "      <td>22</td>\n",
       "      <td>1</td>\n",
       "      <td>22</td>\n",
       "      <td>0.0</td>\n",
       "    </tr>\n",
       "    <tr>\n",
       "      <th>sports</th>\n",
       "      <td>23.0</td>\n",
       "      <td>20</td>\n",
       "      <td>1</td>\n",
       "      <td>20</td>\n",
       "      <td>0.0</td>\n",
       "    </tr>\n",
       "  </tbody>\n",
       "</table>\n",
       "</div>"
      ],
      "text/plain": [
       "           SIZE  EDGES  MAXIMUM IN DEGREE  MAXIMUM OUT DEGREE  \\\n",
       "Education  12.0     11                  1                  11   \n",
       "Economy    23.0     22                  1                  22   \n",
       "sports     23.0     20                  1                  20   \n",
       "\n",
       "           AVERAGE OUT DEGREE  \n",
       "Education                 0.0  \n",
       "Economy                   0.0  \n",
       "sports                    0.0  "
      ]
     },
     "execution_count": 33,
     "metadata": {},
     "output_type": "execute_result"
    }
   ],
   "source": [
    "table_values={\n",
    "    \"SIZE\":size,\n",
    "    \"EDGES\":edges,\n",
    "    \"MAXIMUM IN DEGREE\":max_in_degree,\n",
    "    \"MAXIMUM OUT DEGREE\":max_out_degree,\n",
    "    \"AVERAGE OUT DEGREE\":avg_in_out,\n",
    "}\n",
    "table=pd.DataFrame(table_values)\n",
    "table"
   ]
  },
  {
   "cell_type": "code",
   "execution_count": 34,
   "metadata": {},
   "outputs": [],
   "source": [
    "#For Kejriwal:-\n",
    "sports_stats=stat(kejri_sprt)\n",
    "economy_stats=stat(kejri_eco)\n",
    "education_stats=stat(kejri_edu)\n",
    "\n",
    "\n",
    "def make_dict(dicti,i):\n",
    "    dicti[\"Education\"]=education_stats[i]\n",
    "    dicti[\"Economy\"]=economy_stats[i]\n",
    "    dicti[\"sports\"]=sports_stats[i]\n",
    "    return dicti\n",
    "size={}\n",
    "size=make_dict(size,0)\n",
    "edges={}\n",
    "edges=make_dict(edges,1)\n",
    "max_out_degree={}\n",
    "max_out_degree=make_dict(max_out_degree,3)\n",
    "max_in_degree={}\n",
    "max_in_degree=make_dict(max_in_degree,2)\n",
    "avg_in_out={}\n",
    "avg_in_out=make_dict(avg_in_out,4)\n",
    "\n"
   ]
  },
  {
   "cell_type": "code",
   "execution_count": 35,
   "metadata": {},
   "outputs": [
    {
     "data": {
      "text/html": [
       "<div>\n",
       "<style scoped>\n",
       "    .dataframe tbody tr th:only-of-type {\n",
       "        vertical-align: middle;\n",
       "    }\n",
       "\n",
       "    .dataframe tbody tr th {\n",
       "        vertical-align: top;\n",
       "    }\n",
       "\n",
       "    .dataframe thead th {\n",
       "        text-align: right;\n",
       "    }\n",
       "</style>\n",
       "<table border=\"1\" class=\"dataframe\">\n",
       "  <thead>\n",
       "    <tr style=\"text-align: right;\">\n",
       "      <th></th>\n",
       "      <th>SIZE</th>\n",
       "      <th>EDGES</th>\n",
       "      <th>MAXIMUM IN DEGREE</th>\n",
       "      <th>MAXIMUM OUT DEGREE</th>\n",
       "      <th>AVERAGE OUT DEGREE</th>\n",
       "    </tr>\n",
       "  </thead>\n",
       "  <tbody>\n",
       "    <tr>\n",
       "      <th>Education</th>\n",
       "      <td>4.0</td>\n",
       "      <td>4</td>\n",
       "      <td>1.0</td>\n",
       "      <td>4.0</td>\n",
       "      <td>0.0</td>\n",
       "    </tr>\n",
       "    <tr>\n",
       "      <th>Economy</th>\n",
       "      <td>0.0</td>\n",
       "      <td>0</td>\n",
       "      <td>0.0</td>\n",
       "      <td>0.0</td>\n",
       "      <td>0.0</td>\n",
       "    </tr>\n",
       "    <tr>\n",
       "      <th>sports</th>\n",
       "      <td>1.0</td>\n",
       "      <td>1</td>\n",
       "      <td>1.0</td>\n",
       "      <td>1.0</td>\n",
       "      <td>0.0</td>\n",
       "    </tr>\n",
       "  </tbody>\n",
       "</table>\n",
       "</div>"
      ],
      "text/plain": [
       "           SIZE  EDGES  MAXIMUM IN DEGREE  MAXIMUM OUT DEGREE  \\\n",
       "Education   4.0      4                1.0                 4.0   \n",
       "Economy     0.0      0                0.0                 0.0   \n",
       "sports      1.0      1                1.0                 1.0   \n",
       "\n",
       "           AVERAGE OUT DEGREE  \n",
       "Education                 0.0  \n",
       "Economy                   0.0  \n",
       "sports                    0.0  "
      ]
     },
     "execution_count": 35,
     "metadata": {},
     "output_type": "execute_result"
    }
   ],
   "source": [
    "table_values={\n",
    "    \"SIZE\":size,\n",
    "    \"EDGES\":edges,\n",
    "    \"MAXIMUM IN DEGREE\":max_in_degree,\n",
    "    \"MAXIMUM OUT DEGREE\":max_out_degree,\n",
    "    \"AVERAGE OUT DEGREE\":avg_in_out,\n",
    "}\n",
    "table=pd.DataFrame(table_values)\n",
    "table"
   ]
  },
  {
   "cell_type": "code",
   "execution_count": 39,
   "metadata": {},
   "outputs": [],
   "source": [
    "#Rahul:-\n",
    "\n",
    "sports_stats=stat(rahul_sprt)\n",
    "economy_stats=stat(rahul_eco)\n",
    "education_stats=stat(rahul_edu)\n",
    "\n",
    "\n",
    "def make_dict(dicti,i):\n",
    "    dicti[\"Education\"]=education_stats[i]\n",
    "    dicti[\"Economy\"]=economy_stats[i]\n",
    "    dicti[\"sports\"]=sports_stats[i]\n",
    "    return dicti\n",
    "size={}\n",
    "size=make_dict(size,0)\n",
    "edges={}\n",
    "edges=make_dict(edges,1)\n",
    "max_out_degree={}\n",
    "max_out_degree=make_dict(max_out_degree,3)\n",
    "max_in_degree={}\n",
    "max_in_degree=make_dict(max_in_degree,2)\n",
    "avg_in_out={}\n",
    "avg_in_out=make_dict(avg_in_out,4)\n",
    "\n"
   ]
  },
  {
   "cell_type": "code",
   "execution_count": 40,
   "metadata": {},
   "outputs": [
    {
     "data": {
      "text/html": [
       "<div>\n",
       "<style scoped>\n",
       "    .dataframe tbody tr th:only-of-type {\n",
       "        vertical-align: middle;\n",
       "    }\n",
       "\n",
       "    .dataframe tbody tr th {\n",
       "        vertical-align: top;\n",
       "    }\n",
       "\n",
       "    .dataframe thead th {\n",
       "        text-align: right;\n",
       "    }\n",
       "</style>\n",
       "<table border=\"1\" class=\"dataframe\">\n",
       "  <thead>\n",
       "    <tr style=\"text-align: right;\">\n",
       "      <th></th>\n",
       "      <th>SIZE</th>\n",
       "      <th>EDGES</th>\n",
       "      <th>MAXIMUM IN DEGREE</th>\n",
       "      <th>MAXIMUM OUT DEGREE</th>\n",
       "      <th>AVERAGE OUT DEGREE</th>\n",
       "    </tr>\n",
       "  </thead>\n",
       "  <tbody>\n",
       "    <tr>\n",
       "      <th>Education</th>\n",
       "      <td>0.0</td>\n",
       "      <td>0</td>\n",
       "      <td>0.0</td>\n",
       "      <td>0.0</td>\n",
       "      <td>0.0</td>\n",
       "    </tr>\n",
       "    <tr>\n",
       "      <th>Economy</th>\n",
       "      <td>2.0</td>\n",
       "      <td>2</td>\n",
       "      <td>1.0</td>\n",
       "      <td>2.0</td>\n",
       "      <td>0.0</td>\n",
       "    </tr>\n",
       "    <tr>\n",
       "      <th>sports</th>\n",
       "      <td>1.0</td>\n",
       "      <td>1</td>\n",
       "      <td>1.0</td>\n",
       "      <td>1.0</td>\n",
       "      <td>0.0</td>\n",
       "    </tr>\n",
       "  </tbody>\n",
       "</table>\n",
       "</div>"
      ],
      "text/plain": [
       "           SIZE  EDGES  MAXIMUM IN DEGREE  MAXIMUM OUT DEGREE  \\\n",
       "Education   0.0      0                0.0                 0.0   \n",
       "Economy     2.0      2                1.0                 2.0   \n",
       "sports      1.0      1                1.0                 1.0   \n",
       "\n",
       "           AVERAGE OUT DEGREE  \n",
       "Education                 0.0  \n",
       "Economy                   0.0  \n",
       "sports                    0.0  "
      ]
     },
     "execution_count": 40,
     "metadata": {},
     "output_type": "execute_result"
    }
   ],
   "source": [
    "table_values={\n",
    "    \"SIZE\":size,\n",
    "    \"EDGES\":edges,\n",
    "    \"MAXIMUM IN DEGREE\":max_in_degree,\n",
    "    \"MAXIMUM OUT DEGREE\":max_out_degree,\n",
    "    \"AVERAGE OUT DEGREE\":avg_in_out,\n",
    "}\n",
    "table=pd.DataFrame(table_values)\n",
    "table"
   ]
  },
  {
   "cell_type": "code",
   "execution_count": null,
   "metadata": {},
   "outputs": [],
   "source": []
  }
 ],
 "metadata": {
  "kernelspec": {
   "display_name": "Python 3",
   "language": "python",
   "name": "python3"
  },
  "language_info": {
   "codemirror_mode": {
    "name": "ipython",
    "version": 3
   },
   "file_extension": ".py",
   "mimetype": "text/x-python",
   "name": "python",
   "nbconvert_exporter": "python",
   "pygments_lexer": "ipython3",
   "version": "3.6.9"
  }
 },
 "nbformat": 4,
 "nbformat_minor": 2
}
