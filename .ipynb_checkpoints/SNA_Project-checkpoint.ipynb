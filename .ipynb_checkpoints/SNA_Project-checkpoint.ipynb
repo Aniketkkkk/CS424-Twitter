{
 "cells": [
  {
   "cell_type": "code",
   "execution_count": 36,
   "metadata": {},
   "outputs": [],
   "source": [
    "import pandas as pd \n",
    "data = pd.read_csv(\"dataset/unemployment.csv\") "
   ]
  },
  {
   "cell_type": "code",
   "execution_count": 37,
   "metadata": {},
   "outputs": [],
   "source": [
    "counter = 0 #Used for counting the number of nodes [Extracted Users]\n",
    "for i in range (len(data)):\n",
    "    counter = counter + 1\n"
   ]
  },
  {
   "cell_type": "code",
   "execution_count": 38,
   "metadata": {},
   "outputs": [
    {
     "name": "stdout",
     "output_type": "stream",
     "text": [
      "{0: 'ss_gurprit', 1: 'sandy2mvit', 2: 'neeraj_jhaa', 3: 'shashats', 4: '3751bps', 5: 'mayanksharmajan', 6: 'nitinsehra10', 7: 'nitinsehra10', 8: 'neeraj_jhaa', 9: 'neeraj_jhaa', 10: 'neeraj_jhaa', 11: 'shashats', 12: 'jainasaurus', 13: 'sas96553801', 14: 'santanu23749559', 15: 'aggarwalsagar', 16: 'aggarwalsagar', 17: 'aggarwalsagar', 18: 'santanu23749559', 19: 'baxiabhishek', 20: 'ifliitk01', 21: 'amitkumar12683', 22: 'praveen19652421', 23: 'kamilmohammad9', 24: 'saurabh06972517', 25: 'sumitmi02880332', 26: 'partha2019ls', 27: 'manojchannan', 28: '3751bps', 29: 'partha2019ls', 30: 'baxiabhishek', 31: 'alokg_81', 32: 'maximegalon5', 33: 'aayushman_kaul', 34: 'saracasmfun', 35: 'nrprahulkr', 36: 'animasonkar'}\n"
     ]
    },
    {
     "data": {
      "text/plain": [
       "pandas.core.series.Series"
      ]
     },
     "execution_count": 38,
     "metadata": {},
     "output_type": "execute_result"
    }
   ],
   "source": [
    "nodes={}\n",
    "for i in range(counter):\n",
    "    nodes[i]=data['username'][i]\n",
    "print(nodes)\n",
    "mentions={}\n",
    "j=counter\n",
    "# for i in range(counter):\n",
    "#     for k in range(data['mentions'][i].length())\n",
    "type(data['mentions'])\n"
   ]
  },
  {
   "cell_type": "code",
   "execution_count": 39,
   "metadata": {},
   "outputs": [
    {
     "data": {
      "text/plain": [
       "['rahulkanwal', 'gautamgambhir', 'aamaadmiparty']"
      ]
     },
     "execution_count": 39,
     "metadata": {},
     "output_type": "execute_result"
    }
   ],
   "source": [
    "#len(data['mentions'][0].split(','))\n",
    "#data['mentions'][3]\n",
    "#(data['mentions'][3].strip('][').split(',')[0].strip('\"\"'))\n",
    "import ast\n",
    "res = ast.literal_eval(data['mentions'][3]) \n",
    "res"
   ]
  },
  {
   "cell_type": "code",
   "execution_count": 40,
   "metadata": {},
   "outputs": [
    {
     "data": {
      "text/plain": [
       "{0: 'ss_gurprit',\n",
       " 1: 'sandy2mvit',\n",
       " 2: 'neeraj_jhaa',\n",
       " 3: 'shashats',\n",
       " 4: '3751bps',\n",
       " 5: 'mayanksharmajan',\n",
       " 6: 'nitinsehra10',\n",
       " 7: 'nitinsehra10',\n",
       " 8: 'neeraj_jhaa',\n",
       " 9: 'neeraj_jhaa',\n",
       " 10: 'neeraj_jhaa',\n",
       " 11: 'shashats',\n",
       " 12: 'jainasaurus',\n",
       " 13: 'sas96553801',\n",
       " 14: 'santanu23749559',\n",
       " 15: 'aggarwalsagar',\n",
       " 16: 'aggarwalsagar',\n",
       " 17: 'aggarwalsagar',\n",
       " 18: 'santanu23749559',\n",
       " 19: 'baxiabhishek',\n",
       " 20: 'ifliitk01',\n",
       " 21: 'amitkumar12683',\n",
       " 22: 'praveen19652421',\n",
       " 23: 'kamilmohammad9',\n",
       " 24: 'saurabh06972517',\n",
       " 25: 'sumitmi02880332',\n",
       " 26: 'partha2019ls',\n",
       " 27: 'manojchannan',\n",
       " 28: '3751bps',\n",
       " 29: 'partha2019ls',\n",
       " 30: 'baxiabhishek',\n",
       " 31: 'alokg_81',\n",
       " 32: 'maximegalon5',\n",
       " 33: 'aayushman_kaul',\n",
       " 34: 'saracasmfun',\n",
       " 35: 'nrprahulkr',\n",
       " 36: 'animasonkar',\n",
       " 37: 'rajivkumar1',\n",
       " 38: 'anupamconnects',\n",
       " 39: '_swarajindia',\n",
       " 40: '_yogendrayadav',\n",
       " 41: 'rahulkanwal',\n",
       " 42: 'gautamgambhir',\n",
       " 43: 'aamaadmiparty',\n",
       " 44: 'being_vinita',\n",
       " 45: 'dchautala',\n",
       " 46: 'jjpofficial',\n",
       " 47: 'ukinchandigarh',\n",
       " 48: 'dhcandrewayre',\n",
       " 49: 'dchautala',\n",
       " 50: 'ukinindia',\n",
       " 51: 'tradegovukind',\n",
       " 52: 'jjpofficial',\n",
       " 53: 'bsnlcorporate',\n",
       " 54: 'anupamconnects',\n",
       " 55: 'yuvahallabol',\n",
       " 56: '_yogendrayadav',\n",
       " 57: 'yuvahallabol',\n",
       " 58: '_swarajindia',\n",
       " 59: 'anupamconnects',\n",
       " 60: '_yogendrayadav',\n",
       " 61: 'yuvahallabol',\n",
       " 62: 'anupamconnects',\n",
       " 63: '_yogendrayadav',\n",
       " 64: 'rahulkanwal',\n",
       " 65: 'ani',\n",
       " 66: 'aabhas24',\n",
       " 67: 'pchidambaram_in',\n",
       " 68: 'dramsinghvi',\n",
       " 69: 'kapilsibal',\n",
       " 70: 'rsprasad',\n",
       " 71: 'the_hindu',\n",
       " 72: 'mallicajoshi',\n",
       " 73: 'arvindkejriwal',\n",
       " 74: 'indianexpress',\n",
       " 75: 'the_hindu',\n",
       " 76: 'ani_digital',\n",
       " 77: 'ani',\n",
       " 78: 'the_hindu',\n",
       " 79: 'narendramodi',\n",
       " 80: 'amitshah',\n",
       " 81: 'rahulgandhi',\n",
       " 82: 'mamataofficial',\n",
       " 83: 'mkstalin',\n",
       " 84: 'tehseenp',\n",
       " 85: 'drharshvardhan',\n",
       " 86: 'arvindkejriwal',\n",
       " 87: 'kuljeetschahal',\n",
       " 88: 'bjp4delhi',\n",
       " 89: 'arvindkejriwal',\n",
       " 90: 'aamaadmiparty',\n",
       " 91: 'manojtiwarimp',\n",
       " 92: 'krishnabgowda',\n",
       " 93: 'shinedotcom',\n",
       " 94: 'contest_hub',\n",
       " 95: 'contestalert_',\n",
       " 96: 'porwal_shilpi',\n",
       " 97: 'gagan_response',\n",
       " 98: 'themurtuza',\n",
       " 99: 'blessedkamal',\n",
       " 100: 'narendramodi'}"
      ]
     },
     "execution_count": 40,
     "metadata": {},
     "output_type": "execute_result"
    }
   ],
   "source": [
    "# res = data['mentions'][0].strip('][').split(', ') \n",
    "# res[0][2]\n",
    "import ast\n",
    "k=counter\n",
    "for i in range(counter):\n",
    "    res = ast.literal_eval(data['mentions'][i])\n",
    "    for j in range(len(res)):\n",
    "        if(len(res[j])>0):\n",
    "            nodes[k]=res[j]\n",
    "            k+=1\n",
    "nodes\n",
    "\n",
    "\n"
   ]
  },
  {
   "cell_type": "code",
   "execution_count": 41,
   "metadata": {},
   "outputs": [
    {
     "data": {
      "text/plain": [
       "{'ani_digital': 0,\n",
       " 'mamataofficial': 1,\n",
       " 'santanu23749559': 2,\n",
       " 'drharshvardhan': 3,\n",
       " 'ani': 4,\n",
       " 'blessedkamal': 5,\n",
       " 'maximegalon5': 6,\n",
       " 'mayanksharmajan': 7,\n",
       " 'bjp4delhi': 8,\n",
       " 'kuljeetschahal': 9,\n",
       " 'dchautala': 10,\n",
       " 'ukinchandigarh': 11,\n",
       " 'aabhas24': 12,\n",
       " 'sandy2mvit': 13,\n",
       " 'gautamgambhir': 14,\n",
       " 'dhcandrewayre': 15,\n",
       " '_swarajindia': 16,\n",
       " 'contest_hub': 17,\n",
       " 'bsnlcorporate': 18,\n",
       " 'themurtuza': 19,\n",
       " 'pchidambaram_in': 20,\n",
       " 'narendramodi': 21,\n",
       " 'sumitmi02880332': 22,\n",
       " 'manojchannan': 23,\n",
       " 'animasonkar': 24,\n",
       " 'mallicajoshi': 25,\n",
       " 'shashats': 26,\n",
       " 'indianexpress': 27,\n",
       " 'alokg_81': 28,\n",
       " 'kapilsibal': 29,\n",
       " 'tradegovukind': 30,\n",
       " 'nrprahulkr': 31,\n",
       " 'amitshah': 32,\n",
       " 'krishnabgowda': 33,\n",
       " 'yuvahallabol': 34,\n",
       " 'jjpofficial': 35,\n",
       " 'rsprasad': 36,\n",
       " 'rajivkumar1': 37,\n",
       " 'ukinindia': 38,\n",
       " 'rahulgandhi': 39,\n",
       " 'jainasaurus': 40,\n",
       " '3751bps': 41,\n",
       " 'anupamconnects': 42,\n",
       " 'dramsinghvi': 43,\n",
       " 'praveen19652421': 44,\n",
       " 'partha2019ls': 45,\n",
       " '_yogendrayadav': 46,\n",
       " 'shinedotcom': 47,\n",
       " 'porwal_shilpi': 48,\n",
       " 'gagan_response': 49,\n",
       " 'sas96553801': 50,\n",
       " 'aamaadmiparty': 51,\n",
       " 'aggarwalsagar': 52,\n",
       " 'saracasmfun': 53,\n",
       " 'nitinsehra10': 54,\n",
       " 'the_hindu': 55,\n",
       " 'arvindkejriwal': 56,\n",
       " 'mkstalin': 57,\n",
       " 'saurabh06972517': 58,\n",
       " 'amitkumar12683': 59,\n",
       " 'contestalert_': 60,\n",
       " 'ss_gurprit': 61,\n",
       " 'being_vinita': 62,\n",
       " 'aayushman_kaul': 63,\n",
       " 'rahulkanwal': 64,\n",
       " 'tehseenp': 65,\n",
       " 'neeraj_jhaa': 66,\n",
       " 'ifliitk01': 67,\n",
       " 'manojtiwarimp': 68,\n",
       " 'baxiabhishek': 69,\n",
       " 'kamilmohammad9': 70}"
      ]
     },
     "execution_count": 41,
     "metadata": {},
     "output_type": "execute_result"
    }
   ],
   "source": [
    "unique_users=set(nodes.values())\n",
    "user_ind={}\n",
    "j=0\n",
    "for i in unique_users:\n",
    "    user_ind[i]=j\n",
    "    j+=1\n",
    "user_ind"
   ]
  },
  {
   "cell_type": "code",
   "execution_count": 42,
   "metadata": {},
   "outputs": [
    {
     "data": {
      "text/plain": [
       "0"
      ]
     },
     "execution_count": 42,
     "metadata": {},
     "output_type": "execute_result"
    }
   ],
   "source": [
    "import numpy as np\n",
    "arr=np.zeros([len(unique_users),len(unique_users)],dtype=int)\n",
    "user_ind['ani_digital']"
   ]
  },
  {
   "cell_type": "code",
   "execution_count": 47,
   "metadata": {},
   "outputs": [
    {
     "data": {
      "text/plain": [
       "12"
      ]
     },
     "execution_count": 47,
     "metadata": {},
     "output_type": "execute_result"
    }
   ],
   "source": [
    "for i in range(counter):\n",
    "    user=data['username'][i]\n",
    "    res = ast.literal_eval(data['mentions'][i])\n",
    "    for j in res:\n",
    "        #print(user,\"men\",j)\n",
    "        arr[user_ind[user]][[user_ind[j]]]+=1\n",
    "val =0\n",
    "for i in range (len(unique_users)):\n",
    "    for j in range (len(unique_users)):\n",
    "        val = max(val,arr[i][j])\n",
    "val        \n",
    "    "
   ]
  },
  {
   "cell_type": "code",
   "execution_count": null,
   "metadata": {},
   "outputs": [],
   "source": []
  },
  {
   "cell_type": "code",
   "execution_count": null,
   "metadata": {},
   "outputs": [],
   "source": []
  }
 ],
 "metadata": {
  "kernelspec": {
   "display_name": "Python 3",
   "language": "python",
   "name": "python3"
  },
  "language_info": {
   "codemirror_mode": {
    "name": "ipython",
    "version": 3
   },
   "file_extension": ".py",
   "mimetype": "text/x-python",
   "name": "python",
   "nbconvert_exporter": "python",
   "pygments_lexer": "ipython3",
   "version": "3.6.8"
  }
 },
 "nbformat": 4,
 "nbformat_minor": 2
}
